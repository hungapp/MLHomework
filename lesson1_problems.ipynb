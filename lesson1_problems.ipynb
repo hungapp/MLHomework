{
 "cells": [
  {
   "cell_type": "markdown",
   "metadata": {},
   "source": [
    "# Lesson 1 - Problem Set\n",
    "\n",
    "Please solve the questions in this notebook and submit the completed notebook. The timestamp of submission will be considered the timestamp of completion.\n",
    "\n",
    "1. Create a 3x3x3 array with random values. $_{5\\text{pts}}$\n",
    "\n",
    "1. Create a 4x4 matrix with row values ranging from 0 to 3. $_{5\\text{pts}}$\n",
    "\n",
    "1. Create a random numpy array with 25 elements in sorted order (from least to greatest). $_{5\\text{pts}}$\n",
    "\n",
    "1. Write a function which takes a numpy array `arr` and a scalar `n` and returns the closest value in the array to the provided scalar `n`. $_{10\\text{pts}}$.\n",
    "\n",
    "    **Hint**: Consider the [argmin](https://docs.scipy.org/doc/numpy/reference/generated/numpy.argmin.html) function provided by numpy\n",
    "    \n",
    "1. In the first lesson, we saw the use of the [matplotlib](https://matplotlib.org/) library to generate graphical representations of our data. Using this library, we are going to plot a normal distribution. $_{10\\text{pts}}$.\n",
    "    1. Using the terms mean, variance, and standard deviation, describe a uniform distribution? $_{2\\text{pts}}$.\n",
    "    1. Using the terms mean, variance, and standard deviation, describe a normal distribution? $_{2\\text{pts}}$.\n",
    "    1. Using the [normal](https://docs.scipy.org/doc/numpy-1.14.0/reference/generated/numpy.random.normal.html) function, generate a numpy array of normally distributed numbers. $_{2\\text{pts}}$. (*Hint: Generate the distribution by leveraging your knowledge of mean, variance, and standard deviation.*)\n",
    "    1. What is a histogram? $_{2\\text{pts}}$.\n",
    "    1. Plot a histogram of the normally distributed data that you generated above. $_{2\\text{pts}}$.\n",
    "\n",
    "1. Using a histogram, plot normally sampled data in order to answer the following questions. $_{5\\text{pts}}$.\n",
    "    1. What happens when you change the mean? $_{2.5\\text{pts}}$.\n",
    "    1. What happens when you change the standard deviation? $_{2.5\\text{pts}}$."
   ]
  },
  {
   "cell_type": "code",
   "execution_count": 14,
   "metadata": {},
   "outputs": [
    {
     "name": "stdout",
     "output_type": "stream",
     "text": [
      "[[[0.21933325 0.80253633 0.44642431]\n",
      "  [0.29045496 0.14168606 0.54105201]\n",
      "  [0.33163988 0.8844399  0.76543237]]\n",
      "\n",
      " [[0.75537316 0.86235484 0.04700421]\n",
      "  [0.86977598 0.94290386 0.91400204]\n",
      "  [0.32546489 0.27183647 0.73724012]]\n",
      "\n",
      " [[0.37070164 0.1779575  0.74142767]\n",
      "  [0.67632997 0.39669143 0.48763316]\n",
      "  [0.79464751 0.23614139 0.60296089]]]\n"
     ]
    }
   ],
   "source": [
    "1, \n",
    "import numpy as np\n",
    "array = np.random.random(size=(3,3,3))\n",
    "print(array)"
   ]
  },
  {
   "cell_type": "code",
   "execution_count": 15,
   "metadata": {},
   "outputs": [
    {
     "name": "stdout",
     "output_type": "stream",
     "text": [
      "[[0. 1. 2. 3.]\n",
      " [0. 1. 2. 3.]\n",
      " [0. 1. 2. 3.]\n",
      " [0. 1. 2. 3.]]\n"
     ]
    }
   ],
   "source": [
    "2, \n",
    "x = np.zeros((4,4))\n",
    "x += np.arange(4)\n",
    "print(x)"
   ]
  },
  {
   "cell_type": "code",
   "execution_count": 13,
   "metadata": {},
   "outputs": [
    {
     "name": "stdout",
     "output_type": "stream",
     "text": [
      "[0.09089126 0.17448096 0.31449458 0.35079408 0.41862457 0.54952718\n",
      " 0.70384011 0.77373659 0.89546385 0.93793109]\n"
     ]
    }
   ],
   "source": [
    "3,\n",
    "array = np.sort(np.random.random(size = 10))\n",
    "print(array)"
   ]
  },
  {
   "cell_type": "code",
   "execution_count": 22,
   "metadata": {},
   "outputs": [
    {
     "name": "stdout",
     "output_type": "stream",
     "text": [
      "[0.62473744 0.25654153 0.03274162 0.06788376 0.45878045 0.12686809\n",
      " 0.55405033 0.8489101  0.5986891  0.30039527]\n",
      "0.4587804481336365\n"
     ]
    }
   ],
   "source": [
    "4,\n",
    "def find_nearest(array, value):\n",
    "    i = (np.abs(array - value)).argmin()\n",
    "    return array[i]\n",
    "\n",
    "array = np.random.random(size = 10)\n",
    "print(array)\n",
    "\n",
    "value = 0.5\n",
    "\n",
    "print(find_nearest(array, value))"
   ]
  },
  {
   "cell_type": "markdown",
   "metadata": {},
   "source": [
    "5, \n",
    "\n",
    "A, For uniform distribution,\n",
    "mu = 1/2(a+b)\n",
    "sigma^2\t= 1/(12)(b-a)^2\n",
    "\n",
    "B, For normal distribution, mean and variance can take nay value. For, standard normal distribution, mean = median = mode = 0, variance = standard deviation = 1\n",
    "\n",
    "C,"
   ]
  },
  {
   "cell_type": "code",
   "execution_count": 46,
   "metadata": {},
   "outputs": [],
   "source": [
    "mu, sigma = 0.2, 0.3\n",
    "array = np.random.normal(mu, sigma, 2000)"
   ]
  },
  {
   "cell_type": "markdown",
   "metadata": {},
   "source": [
    "D, Histogram is a diagram consisting of rectangles whose area is proportional to the frequency of a variable and whose width is equal to the class interval.\n",
    "\n",
    "E,"
   ]
  },
  {
   "cell_type": "code",
   "execution_count": 47,
   "metadata": {},
   "outputs": [
    {
     "name": "stderr",
     "output_type": "stream",
     "text": [
      "C:\\Users\\vieth\\Anaconda3\\lib\\site-packages\\matplotlib\\axes\\_axes.py:6462: UserWarning: The 'normed' kwarg is deprecated, and has been replaced by the 'density' kwarg.\n",
      "  warnings.warn(\"The 'normed' kwarg is deprecated, and has been \"\n"
     ]
    },
    {
     "data": {
      "image/png": "[encoded data removed]",
      "text/plain": [
       "<Figure size 432x288 with 1 Axes>"
      ]
     },
     "metadata": {},
     "output_type": "display_data"
    }
   ],
   "source": [
    "import matplotlib.pyplot as plt\n",
    "count, bins, ignored = plt.hist(s, 30, normed=True)\n",
    "plt.plot(bins, 1/(sigma * np.sqrt(2 * np.pi)) * np.exp( - (bins - mu)**2 / (2 * sigma**2) ), linewidth=2, color='r')\n",
    "plt.show()"
   ]
  },
  {
   "cell_type": "markdown",
   "metadata": {},
   "source": [
    "A, When I change the mean, the distribution plot gets skewed to a side.\n",
    "\n",
    "B, When I change the sigma, the plot changes the slope either be flatten or be heighten."
   ]
  }
 ],
 "metadata": {
  "kernelspec": {
   "display_name": "Python 3",
   "language": "python",
   "name": "python3"
  },
  "language_info": {
   "codemirror_mode": {
    "name": "ipython",
    "version": 3
   },
   "file_extension": ".py",
   "mimetype": "text/x-python",
   "name": "python",
   "nbconvert_exporter": "python",
   "pygments_lexer": "ipython3",
   "version": "3.6.5"
  }
 },
 "nbformat": 4,
 "nbformat_minor": 2
}
